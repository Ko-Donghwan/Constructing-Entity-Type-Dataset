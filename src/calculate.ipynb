{
 "cells": [
  {
   "cell_type": "code",
   "execution_count": 1,
   "metadata": {},
   "outputs": [],
   "source": [
    "from dotenv import load_dotenv\n",
    "import openai\n",
    "import os\n",
    "import tiktoken\n",
    "import yfinance as yf\n",
    "import re"
   ]
  },
  {
   "cell_type": "code",
   "execution_count": 2,
   "metadata": {},
   "outputs": [],
   "source": [
    "# .env 파일에서 환경 변수 로드\n",
    "load_dotenv()\n",
    "\n",
    "# API 키 가져오기\n",
    "openai.api_key = os.getenv(\"OPENAI_API_KEY\")\n",
    "\n",
    "# 토크나이저 이름을 이용하는 방법\n",
    "encoder = tiktoken.get_encoding(\"cl100k_base\")"
   ]
  },
  {
   "cell_type": "code",
   "execution_count": null,
   "metadata": {},
   "outputs": [],
   "source": [
    "import tiktoken\n",
    "\n",
    "# API 키 가져오기\n",
    "openai.api_key = os.getenv(\"OPENAI_API_KEY\")\n",
    "\n",
    "# 토크나이저 이름을 이용하는 방법\n",
    "encoder = tiktoken.get_encoding(\"cl100k_base\")\n",
    "\n",
    "def count_tokens(text, model=\"gpt-4o-mini\"): # 텍스트 토큰화 함수\n",
    "    encoder = tiktoken.encoding_for_model(model)\n",
    "    tokens = encoder.encode(text)\n",
    "    return len(tokens)\n",
    "\n",
    "input_tokens = count_tokens(input_text, model)"
   ]
  },
  {
   "cell_type": "code",
   "execution_count": 3,
   "metadata": {},
   "outputs": [
    {
     "name": "stdout",
     "output_type": "stream",
     "text": [
      "{'input_tokens': 91, 'output_tokens': 70, 'total_cost': 0.000102}\n"
     ]
    }
   ],
   "source": [
    "PRICING = {\n",
    "    \"gpt-4o-mini\": {\"input\": 0.001, \"output\": 0.00015},\n",
    "}\n",
    "\n",
    "def count_tokens(text, model=\"gpt-4o-mini\"): # 텍스트 토큰화 함수\n",
    "    encoder = tiktoken.encoding_for_model(model)\n",
    "    tokens = encoder.encode(text)\n",
    "    return len(tokens)\n",
    "\n",
    "def estimate_cost(model, input_text, output_text): # 비용 계산 함수\n",
    "    input_tokens = count_tokens(input_text, model)\n",
    "    output_tokens = count_tokens(output_text, model)\n",
    "\n",
    "    input_cost = (input_tokens / 1000) * PRICING[model][\"input\"] # 1K 토큰당 가격 계산\n",
    "    output_cost = (output_tokens / 1000) * PRICING[model][\"output\"]\n",
    "    \n",
    "    total_cost = input_cost + output_cost\n",
    "    return {\n",
    "        \"input_tokens\": input_tokens,\n",
    "        \"output_tokens\": output_tokens,\n",
    "        \"total_cost\": round(total_cost, 6)\n",
    "    }\n",
    "\n",
    "if __name__ == \"__main__\": # 테스트 실행\n",
    "    model = \"gpt-4o-mini\"\n",
    "    user_input = prompt = f\"\"\"I am trying to enhance a triple dataset by adding entity types to the head and tail of the triple. \n",
    "            Give me an entity type for a noun word 'roro.n.01' which has a definition of\n",
    "            * The entity type must not be a POS (part-of-speech)\n",
    "            * Generate a single JSON consisting of the entity type as follows:\n",
    "            - {{ \"entity_type\": \"the entity type of the word\" }}\"\"\"\n",
    "    api_response = \"\"\"\n",
    "    Based on the definition provided for the noun \"reform.n.01\" (\"a change for the better as a result of correcting abuses\"), the most suitable entity type could be related to processes or activities that involve transformation or improvement within a system. Here's a JSON representation of the entity type:\n",
    "\n",
    "        {'entity_type': 'EconomicPolicy'}\n",
    "    \"\"\"\n",
    "\n",
    "    cost_info = estimate_cost(model, user_input, api_response)\n",
    "    print(cost_info)"
   ]
  },
  {
   "cell_type": "code",
   "execution_count": 85,
   "metadata": {},
   "outputs": [
    {
     "data": {
      "text/plain": [
       "8.16"
      ]
     },
     "execution_count": 85,
     "metadata": {},
     "output_type": "execute_result"
    }
   ],
   "source": [
    "cost_info['total_cost'] * 80000"
   ]
  },
  {
   "cell_type": "code",
   "execution_count": 98,
   "metadata": {},
   "outputs": [
    {
     "name": "stderr",
     "output_type": "stream",
     "text": [
      "[*********************100%***********************]  1 of 1 completed"
     ]
    },
    {
     "name": "stdout",
     "output_type": "stream",
     "text": [
      "현재 원/달러 환율: Ticker\n",
      "USDKRW=X    1451.829956\n",
      "Name: 2025-02-10 05:04:00+00:00, dtype: float64 원\n"
     ]
    },
    {
     "name": "stderr",
     "output_type": "stream",
     "text": [
      "\n"
     ]
    }
   ],
   "source": [
    "# USD/KRW 환율 데이터 가져오기\n",
    "data = yf.download('USDKRW=X', period='1d', interval='1m')\n",
    "rate = data['Close'].iloc[-1]\n",
    "print(f'현재 원/달러 환율: {rate} 원')"
   ]
  },
  {
   "cell_type": "code",
   "execution_count": 99,
   "metadata": {},
   "outputs": [],
   "source": [
    "won_dollar_rate = str(rate).splitlines()"
   ]
  },
  {
   "cell_type": "code",
   "execution_count": 100,
   "metadata": {},
   "outputs": [
    {
     "data": {
      "text/plain": [
       "['Ticker',\n",
       " 'USDKRW=X    1451.829956',\n",
       " 'Name: 2025-02-10 05:04:00+00:00, dtype: float64']"
      ]
     },
     "execution_count": 100,
     "metadata": {},
     "output_type": "execute_result"
    }
   ],
   "source": [
    "won_dollar_rate"
   ]
  },
  {
   "cell_type": "code",
   "execution_count": 101,
   "metadata": {},
   "outputs": [
    {
     "name": "stdout",
     "output_type": "stream",
     "text": [
      "1451.829956\n"
     ]
    }
   ],
   "source": [
    "# 예시 rate 값 (Series 형식)\n",
    "rate = won_dollar_rate[1]\n",
    "\n",
    "# 정규 표현식으로 소수점을 포함한 숫자 추출\n",
    "match = re.search(r'\\d+\\.\\d+', rate)\n",
    "\n",
    "if match:\n",
    "    # 추출한 숫자 부분을 float 형식으로 변환\n",
    "    exchange_rate = float(match.group())\n",
    "    print(exchange_rate)  # 결과: 1451.880005\n",
    "else:\n",
    "    print(\"숫자를 찾을 수 없습니다.\")"
   ]
  },
  {
   "cell_type": "code",
   "execution_count": null,
   "metadata": {},
   "outputs": [
    {
     "name": "stdout",
     "output_type": "stream",
     "text": [
      "1452\n"
     ]
    }
   ],
   "source": [
    "rate = won_dollar_rate\n",
    "\n",
    "# 정규 표현식으로 정수 부분만 추출\n",
    "match = re.search(r'\\d+', rate)\n",
    "\n",
    "if match:\n",
    "    # 정수 부분을 추출하고 정수형으로 변환\n",
    "    integer_part = int(match.group())\n",
    "    print(integer_part)  # 결과: 1452\n",
    "else:\n",
    "    print(\"정수를 찾을 수 없습니다.\")\n"
   ]
  },
  {
   "cell_type": "code",
   "execution_count": 92,
   "metadata": {},
   "outputs": [
    {
     "data": {
      "text/plain": [
       "11848.32"
      ]
     },
     "execution_count": 92,
     "metadata": {},
     "output_type": "execute_result"
    }
   ],
   "source": [
    "cost_info['total_cost'] * 80000 * integer_part"
   ]
  }
 ],
 "metadata": {
  "kernelspec": {
   "display_name": "Python 3",
   "language": "python",
   "name": "python3"
  },
  "language_info": {
   "codemirror_mode": {
    "name": "ipython",
    "version": 3
   },
   "file_extension": ".py",
   "mimetype": "text/x-python",
   "name": "python",
   "nbconvert_exporter": "python",
   "pygments_lexer": "ipython3",
   "version": "3.12.9"
  }
 },
 "nbformat": 4,
 "nbformat_minor": 2
}
