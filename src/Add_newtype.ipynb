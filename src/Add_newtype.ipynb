{
 "cells": [
  {
   "cell_type": "code",
   "execution_count": 17,
   "metadata": {},
   "outputs": [
    {
     "name": "stdout",
     "output_type": "stream",
     "text": [
      "Place   0\n",
      "Thing   1\n",
      "PostalAddress   2\n",
      "Point   3\n",
      "RestAction   4\n",
      "Intangible   5\n",
      "LinguisticSystem   6\n",
      "MusicComposition   7\n",
      "Intangible   8\n",
      "schema:Intangible   9\n",
      "ActivateAction   10"
     ]
    }
   ],
   "source": [
    "# 파일명과 기존 데이터를 설정합니다.\n",
    "file_name = 'data/type2id_1.txt'\n",
    "existing_data = {}\n",
    "\n",
    "# 파일이 존재하는 경우, 기존 데이터를 읽어옵니다.\n",
    "with open(file_name, 'r') as file:\n",
    "    for line in file:\n",
    "        line, line_number = line.split(\" \")\n",
    "        print(line, \" \", line_number,end=\"\")\n",
    "        if line:\n",
    "            existing_data[line] = int(line_number)"
   ]
  },
  {
   "cell_type": "code",
   "execution_count": 29,
   "metadata": {},
   "outputs": [
    {
     "name": "stdout",
     "output_type": "stream",
     "text": [
      "A은(는) 존재하지 않습니다.\n",
      "A과(와) 11가 추가되었습니다.\n"
     ]
    }
   ],
   "source": [
    "new_type = \"A\"\n",
    "\n",
    "if new_type not in existing_data:\n",
    "    print(f\"{new_type}은(는) 존재하지 않습니다.\")\n",
    "    with open(file_name, 'a') as file:\n",
    "        file.write(f\"{new_type} {len(existing_data)+1}\\n\")\n",
    "        print(f\"{new_type}과(와) {len(existing_data)+1}가 추가되었습니다.\")\n",
    "else:\n",
    "    print(f\"{new_type}은(는) 이미 존재합니다.\")"
   ]
  }
 ],
 "metadata": {
  "kernelspec": {
   "display_name": "Python 3",
   "language": "python",
   "name": "python3"
  },
  "language_info": {
   "codemirror_mode": {
    "name": "ipython",
    "version": 3
   },
   "file_extension": ".py",
   "mimetype": "text/x-python",
   "name": "python",
   "nbconvert_exporter": "python",
   "pygments_lexer": "ipython3",
   "version": "3.11.5"
  }
 },
 "nbformat": 4,
 "nbformat_minor": 2
}
